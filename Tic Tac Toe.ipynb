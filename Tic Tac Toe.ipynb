{
 "cells": [
  {
   "cell_type": "markdown",
   "metadata": {},
   "source": [
    "Tic Tac toe Game\n"
   ]
  },
  {
   "cell_type": "code",
   "execution_count": 51,
   "metadata": {},
   "outputs": [],
   "source": [
    "def getinp(msg,rn,p1,p2):\n",
    "    \n",
    "    while True:\n",
    "        x = input(msg)\n",
    "        if int(x) in rn :\n",
    "            if x not in p1 and x not in p2:\n",
    "                return x\n",
    "            else:\n",
    "                print(f'{x} has already been used pick another number')\n",
    "                continue\n",
    "        \n",
    "        else:\n",
    "            print(f'{x} must be in {rn} ')\n",
    "            continue\n",
    "    \n",
    "    \n",
    "            \n",
    "    \n",
    "    \n"
   ]
  },
  {
   "cell_type": "code",
   "execution_count": 67,
   "metadata": {},
   "outputs": [],
   "source": [
    "def print_board(p1,p2):\n",
    "    board = list(range(10))\n",
    "    for i in range(1,10):\n",
    "        if str(i) in p1:\n",
    "            board[i] = 'X'\n",
    "        elif str(i) in p2:\n",
    "            board[i] = 'O'\n",
    "        else:\n",
    "            board[i] = ' '\n",
    "    print(f'{board[1]}|{board[2]}|{board[3]}')\n",
    "    print(f'------')\n",
    "    print(f'{board[4]}|{board[5]}|{board[6]}')\n",
    "    print(f'------')\n",
    "    print(f'{board[7]}|{board[8]}|{board[9]}')\n",
    "    \n",
    "            \n",
    "            "
   ]
  },
  {
   "cell_type": "code",
   "execution_count": 68,
   "metadata": {},
   "outputs": [
    {
     "name": "stdout",
     "output_type": "stream",
     "text": [
      "X|O|O\n",
      "------\n",
      " | | \n",
      "------\n",
      " | | \n"
     ]
    }
   ],
   "source": [
    "\n",
    "print_board(['1'],['2','3'])\n",
    "\n"
   ]
  },
  {
   "cell_type": "code",
   "execution_count": 76,
   "metadata": {},
   "outputs": [],
   "source": [
    " def game_play():\n",
    "    play_on = True\n",
    "    p1 = list()\n",
    "    p2 = list()\n",
    "    while play_on:\n",
    "        x= getinp('Select a cell player 1  ',list(range(1,10)),p1,p2)\n",
    "        p1.append(x)\n",
    "        p1.sort()\n",
    "        print_board(p1,p2)\n",
    "        if len(p1)> 2:\n",
    "            play_on = evaluate(p1,p2)\n",
    "            if play_on == False:\n",
    "                break\n",
    "        y = getinp('Select a cell player 2  ',range(1,10),p1,p2)\n",
    "        p2.append(y) \n",
    "        p2.sort()\n",
    "        print_board(p1,p2)\n",
    "        if len(p2)> 2:\n",
    "              play_on = evaluate(p1,p2)\n",
    "       \n",
    "                        \n",
    "          \n",
    "            \n",
    "         \n",
    "        \n",
    "        \n",
    "    "
   ]
  },
  {
   "cell_type": "code",
   "execution_count": 77,
   "metadata": {},
   "outputs": [
    {
     "name": "stdout",
     "output_type": "stream",
     "text": [
      "Select a cell player 1  1\n",
      "X| | \n",
      "------\n",
      " | | \n",
      "------\n",
      " | | \n",
      "Select a cell player 2  22\n",
      "22 must be in range(1, 10) \n",
      "Select a cell player 2  2\n",
      "X|O| \n",
      "------\n",
      " | | \n",
      "------\n",
      " | | \n",
      "Select a cell player 1  3\n",
      "X|O|X\n",
      "------\n",
      " | | \n",
      "------\n",
      " | | \n",
      "Select a cell player 2  4\n",
      "X|O|X\n",
      "------\n",
      "O| | \n",
      "------\n",
      " | | \n",
      "Select a cell player 1  5\n",
      "X|O|X\n",
      "------\n",
      "O|X| \n",
      "------\n",
      " | | \n",
      "Select a cell player 2  6\n",
      "X|O|X\n",
      "------\n",
      "O|X|O\n",
      "------\n",
      " | | \n",
      "Select a cell player 1  7\n",
      "X|O|X\n",
      "------\n",
      "O|X|O\n",
      "------\n",
      "X| | \n",
      "player 1 is the winner!!\n",
      "Do you want to play a new game 0\n"
     ]
    }
   ],
   "source": [
    "game_play()"
   ]
  },
  {
   "cell_type": "code",
   "execution_count": 78,
   "metadata": {},
   "outputs": [],
   "source": [
    " def check_winner( p1,p2 ):\n",
    "        win_list = ['123','147','159','258','357','369','456','789']\n",
    "        for  item in win_list:\n",
    "            \n",
    "            if item in p1:\n",
    "                return 'Player 1'\n",
    "            elif item in p2:\n",
    "                return 'Player 2'\n",
    "        else:\n",
    "                return 'No Result'\n",
    "                \n",
    "            \n",
    "    \n",
    "    \n",
    "    \n",
    "    "
   ]
  },
  {
   "cell_type": "code",
   "execution_count": 23,
   "metadata": {},
   "outputs": [
    {
     "data": {
      "text/plain": [
       "'123'"
      ]
     },
     "execution_count": 23,
     "metadata": {},
     "output_type": "execute_result"
    }
   ],
   "source": [
    "p1 = ['1','2','3']\n",
    "p2 = ['4','5','6']\n",
    "pstr = ''.join(p1)\n",
    "pstr"
   ]
  },
  {
   "cell_type": "code",
   "execution_count": 10,
   "metadata": {},
   "outputs": [
    {
     "data": {
      "text/plain": [
       "'player 2'"
      ]
     },
     "execution_count": 10,
     "metadata": {},
     "output_type": "execute_result"
    }
   ],
   "source": [
    "check_winner('159','147')"
   ]
  },
  {
   "cell_type": "code",
   "execution_count": 74,
   "metadata": {},
   "outputs": [],
   "source": [
    "def evaluate(p1,p2):\n",
    "    ply1 =  ''.join(p1)\n",
    "    ply2 =  ''.join(p2)\n",
    "    result = check_winner(ply1,ply2)\n",
    "    if result == 'No Result' and len(p1)+len(p2)>= 9 :\n",
    "        result = 'It is a draw'\n",
    "        print(result)\n",
    "        p1  = list()\n",
    "        p2  = list()\n",
    "        y = getinp('there was no result Do you want to play a new game ',[0,1],list(),list())\n",
    "        if y == '0':\n",
    "            return False \n",
    "        else:\n",
    "            return True\n",
    "    elif result != 'No Result':\n",
    "        print (f'{result} is the winner!!')\n",
    "        p1  = list()\n",
    "        p2  = list()\n",
    "        y = getinp('Do you want to play a new game ',[0,1],list(),list())\n",
    "        if y == '0':\n",
    "            return False\n",
    "        else:\n",
    "            return True\n",
    "    else:\n",
    "        return True\n",
    "    \n",
    "   "
   ]
  },
  {
   "cell_type": "code",
   "execution_count": null,
   "metadata": {},
   "outputs": [],
   "source": []
  }
 ],
 "metadata": {
  "kernelspec": {
   "display_name": "Python 3",
   "language": "python",
   "name": "python3"
  },
  "language_info": {
   "codemirror_mode": {
    "name": "ipython",
    "version": 3
   },
   "file_extension": ".py",
   "mimetype": "text/x-python",
   "name": "python",
   "nbconvert_exporter": "python",
   "pygments_lexer": "ipython3",
   "version": "3.7.3"
  }
 },
 "nbformat": 4,
 "nbformat_minor": 2
}
